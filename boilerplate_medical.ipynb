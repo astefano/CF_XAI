{
  "nbformat": 4,
  "nbformat_minor": 0,
  "metadata": {
    "colab": {
      "provenance": [],
      "authorship_tag": "ABX9TyPVSQSMBCJO6BGqJoOu/MGE",
      "include_colab_link": true
    },
    "kernelspec": {
      "name": "python3",
      "display_name": "Python 3"
    },
    "language_info": {
      "name": "python"
    }
  },
  "cells": [
    {
      "cell_type": "markdown",
      "metadata": {
        "id": "view-in-github",
        "colab_type": "text"
      },
      "source": [
        "<a href=\"https://colab.research.google.com/github/astefano/CF_XAI/blob/main/boilerplate_medical.ipynb\" target=\"_parent\"><img src=\"https://colab.research.google.com/assets/colab-badge.svg\" alt=\"Open In Colab\"/></a>"
      ]
    },
    {
      "cell_type": "code",
      "execution_count": 2,
      "metadata": {
        "colab": {
          "base_uri": "https://localhost:8080/",
          "height": 73
        },
        "id": "XUVR_YIMIpsO",
        "outputId": "28d53a92-e568-4383-c333-0dcb585a2836"
      },
      "outputs": [
        {
          "output_type": "display_data",
          "data": {
            "text/plain": [
              "<IPython.core.display.HTML object>"
            ],
            "text/html": [
              "\n",
              "     <input type=\"file\" id=\"files-566dc1e3-3ae1-4c04-8070-9cb3db669215\" name=\"files[]\" multiple disabled\n",
              "        style=\"border:none\" />\n",
              "     <output id=\"result-566dc1e3-3ae1-4c04-8070-9cb3db669215\">\n",
              "      Upload widget is only available when the cell has been executed in the\n",
              "      current browser session. Please rerun this cell to enable.\n",
              "      </output>\n",
              "      <script>// Copyright 2017 Google LLC\n",
              "//\n",
              "// Licensed under the Apache License, Version 2.0 (the \"License\");\n",
              "// you may not use this file except in compliance with the License.\n",
              "// You may obtain a copy of the License at\n",
              "//\n",
              "//      http://www.apache.org/licenses/LICENSE-2.0\n",
              "//\n",
              "// Unless required by applicable law or agreed to in writing, software\n",
              "// distributed under the License is distributed on an \"AS IS\" BASIS,\n",
              "// WITHOUT WARRANTIES OR CONDITIONS OF ANY KIND, either express or implied.\n",
              "// See the License for the specific language governing permissions and\n",
              "// limitations under the License.\n",
              "\n",
              "/**\n",
              " * @fileoverview Helpers for google.colab Python module.\n",
              " */\n",
              "(function(scope) {\n",
              "function span(text, styleAttributes = {}) {\n",
              "  const element = document.createElement('span');\n",
              "  element.textContent = text;\n",
              "  for (const key of Object.keys(styleAttributes)) {\n",
              "    element.style[key] = styleAttributes[key];\n",
              "  }\n",
              "  return element;\n",
              "}\n",
              "\n",
              "// Max number of bytes which will be uploaded at a time.\n",
              "const MAX_PAYLOAD_SIZE = 100 * 1024;\n",
              "\n",
              "function _uploadFiles(inputId, outputId) {\n",
              "  const steps = uploadFilesStep(inputId, outputId);\n",
              "  const outputElement = document.getElementById(outputId);\n",
              "  // Cache steps on the outputElement to make it available for the next call\n",
              "  // to uploadFilesContinue from Python.\n",
              "  outputElement.steps = steps;\n",
              "\n",
              "  return _uploadFilesContinue(outputId);\n",
              "}\n",
              "\n",
              "// This is roughly an async generator (not supported in the browser yet),\n",
              "// where there are multiple asynchronous steps and the Python side is going\n",
              "// to poll for completion of each step.\n",
              "// This uses a Promise to block the python side on completion of each step,\n",
              "// then passes the result of the previous step as the input to the next step.\n",
              "function _uploadFilesContinue(outputId) {\n",
              "  const outputElement = document.getElementById(outputId);\n",
              "  const steps = outputElement.steps;\n",
              "\n",
              "  const next = steps.next(outputElement.lastPromiseValue);\n",
              "  return Promise.resolve(next.value.promise).then((value) => {\n",
              "    // Cache the last promise value to make it available to the next\n",
              "    // step of the generator.\n",
              "    outputElement.lastPromiseValue = value;\n",
              "    return next.value.response;\n",
              "  });\n",
              "}\n",
              "\n",
              "/**\n",
              " * Generator function which is called between each async step of the upload\n",
              " * process.\n",
              " * @param {string} inputId Element ID of the input file picker element.\n",
              " * @param {string} outputId Element ID of the output display.\n",
              " * @return {!Iterable<!Object>} Iterable of next steps.\n",
              " */\n",
              "function* uploadFilesStep(inputId, outputId) {\n",
              "  const inputElement = document.getElementById(inputId);\n",
              "  inputElement.disabled = false;\n",
              "\n",
              "  const outputElement = document.getElementById(outputId);\n",
              "  outputElement.innerHTML = '';\n",
              "\n",
              "  const pickedPromise = new Promise((resolve) => {\n",
              "    inputElement.addEventListener('change', (e) => {\n",
              "      resolve(e.target.files);\n",
              "    });\n",
              "  });\n",
              "\n",
              "  const cancel = document.createElement('button');\n",
              "  inputElement.parentElement.appendChild(cancel);\n",
              "  cancel.textContent = 'Cancel upload';\n",
              "  const cancelPromise = new Promise((resolve) => {\n",
              "    cancel.onclick = () => {\n",
              "      resolve(null);\n",
              "    };\n",
              "  });\n",
              "\n",
              "  // Wait for the user to pick the files.\n",
              "  const files = yield {\n",
              "    promise: Promise.race([pickedPromise, cancelPromise]),\n",
              "    response: {\n",
              "      action: 'starting',\n",
              "    }\n",
              "  };\n",
              "\n",
              "  cancel.remove();\n",
              "\n",
              "  // Disable the input element since further picks are not allowed.\n",
              "  inputElement.disabled = true;\n",
              "\n",
              "  if (!files) {\n",
              "    return {\n",
              "      response: {\n",
              "        action: 'complete',\n",
              "      }\n",
              "    };\n",
              "  }\n",
              "\n",
              "  for (const file of files) {\n",
              "    const li = document.createElement('li');\n",
              "    li.append(span(file.name, {fontWeight: 'bold'}));\n",
              "    li.append(span(\n",
              "        `(${file.type || 'n/a'}) - ${file.size} bytes, ` +\n",
              "        `last modified: ${\n",
              "            file.lastModifiedDate ? file.lastModifiedDate.toLocaleDateString() :\n",
              "                                    'n/a'} - `));\n",
              "    const percent = span('0% done');\n",
              "    li.appendChild(percent);\n",
              "\n",
              "    outputElement.appendChild(li);\n",
              "\n",
              "    const fileDataPromise = new Promise((resolve) => {\n",
              "      const reader = new FileReader();\n",
              "      reader.onload = (e) => {\n",
              "        resolve(e.target.result);\n",
              "      };\n",
              "      reader.readAsArrayBuffer(file);\n",
              "    });\n",
              "    // Wait for the data to be ready.\n",
              "    let fileData = yield {\n",
              "      promise: fileDataPromise,\n",
              "      response: {\n",
              "        action: 'continue',\n",
              "      }\n",
              "    };\n",
              "\n",
              "    // Use a chunked sending to avoid message size limits. See b/62115660.\n",
              "    let position = 0;\n",
              "    do {\n",
              "      const length = Math.min(fileData.byteLength - position, MAX_PAYLOAD_SIZE);\n",
              "      const chunk = new Uint8Array(fileData, position, length);\n",
              "      position += length;\n",
              "\n",
              "      const base64 = btoa(String.fromCharCode.apply(null, chunk));\n",
              "      yield {\n",
              "        response: {\n",
              "          action: 'append',\n",
              "          file: file.name,\n",
              "          data: base64,\n",
              "        },\n",
              "      };\n",
              "\n",
              "      let percentDone = fileData.byteLength === 0 ?\n",
              "          100 :\n",
              "          Math.round((position / fileData.byteLength) * 100);\n",
              "      percent.textContent = `${percentDone}% done`;\n",
              "\n",
              "    } while (position < fileData.byteLength);\n",
              "  }\n",
              "\n",
              "  // All done.\n",
              "  yield {\n",
              "    response: {\n",
              "      action: 'complete',\n",
              "    }\n",
              "  };\n",
              "}\n",
              "\n",
              "scope.google = scope.google || {};\n",
              "scope.google.colab = scope.google.colab || {};\n",
              "scope.google.colab._files = {\n",
              "  _uploadFiles,\n",
              "  _uploadFilesContinue,\n",
              "};\n",
              "})(self);\n",
              "</script> "
            ]
          },
          "metadata": {}
        },
        {
          "output_type": "stream",
          "name": "stdout",
          "text": [
            "Saving medical_examination.csv to medical_examination.csv\n"
          ]
        }
      ],
      "source": [
        "import pandas as pd\n",
        "import seaborn as sns\n",
        "import matplotlib.pyplot as plt\n",
        "import numpy as np\n",
        "\n",
        "from google.colab import files\n",
        "uploaded = files.upload()"
      ]
    },
    {
      "cell_type": "code",
      "source": [
        "import io\n",
        "df = pd.read_csv(io.BytesIO(uploaded['medical_examination.csv']))\n",
        "\n",
        "df.info()"
      ],
      "metadata": {
        "colab": {
          "base_uri": "https://localhost:8080/"
        },
        "id": "_QdSeDA3I9sU",
        "outputId": "4baeebd1-4584-4be5-bd8c-31020c637cec"
      },
      "execution_count": 3,
      "outputs": [
        {
          "output_type": "stream",
          "name": "stdout",
          "text": [
            "<class 'pandas.core.frame.DataFrame'>\n",
            "RangeIndex: 70000 entries, 0 to 69999\n",
            "Data columns (total 13 columns):\n",
            " #   Column       Non-Null Count  Dtype  \n",
            "---  ------       --------------  -----  \n",
            " 0   id           70000 non-null  int64  \n",
            " 1   age          70000 non-null  int64  \n",
            " 2   sex          70000 non-null  int64  \n",
            " 3   height       70000 non-null  int64  \n",
            " 4   weight       70000 non-null  float64\n",
            " 5   ap_hi        70000 non-null  int64  \n",
            " 6   ap_lo        70000 non-null  int64  \n",
            " 7   cholesterol  70000 non-null  int64  \n",
            " 8   gluc         70000 non-null  int64  \n",
            " 9   smoke        70000 non-null  int64  \n",
            " 10  alco         70000 non-null  int64  \n",
            " 11  active       70000 non-null  int64  \n",
            " 12  cardio       70000 non-null  int64  \n",
            "dtypes: float64(1), int64(12)\n",
            "memory usage: 6.9 MB\n"
          ]
        }
      ]
    },
    {
      "cell_type": "code",
      "source": [
        "n = df.size\n",
        "print(n)"
      ],
      "metadata": {
        "colab": {
          "base_uri": "https://localhost:8080/"
        },
        "id": "CY704YajJGDu",
        "outputId": "2380d6cf-f290-4b90-cca1-21e79573fbd1"
      },
      "execution_count": 4,
      "outputs": [
        {
          "output_type": "stream",
          "name": "stdout",
          "text": [
            "910000\n"
          ]
        }
      ]
    },
    {
      "cell_type": "code",
      "source": [
        "df['BMI']=df['weight']/(df['height']/100)**2"
      ],
      "metadata": {
        "id": "ZnjKgsvwJIdA"
      },
      "execution_count": 5,
      "outputs": []
    },
    {
      "cell_type": "code",
      "source": [
        "df['overweight']= df['BMI']>25\n",
        "df['overweight']= df['overweight'].astype(int)"
      ],
      "metadata": {
        "id": "HMWHbNe8lRZs"
      },
      "execution_count": 6,
      "outputs": []
    },
    {
      "cell_type": "code",
      "source": [
        "df['cholesterol'] = np.where(df['cholesterol'] > 1, 1, 0)\n",
        "df['gluc'] = np.where(df['gluc'] > 1, 1, 0)"
      ],
      "metadata": {
        "id": "SnnAmX4zqPxp"
      },
      "execution_count": 7,
      "outputs": []
    },
    {
      "cell_type": "code",
      "source": [
        "print(df)"
      ],
      "metadata": {
        "colab": {
          "base_uri": "https://localhost:8080/"
        },
        "id": "qaWoNZ27Mi_I",
        "outputId": "4d0809ae-b310-4f7d-c909-f44601dc62dd"
      },
      "execution_count": null,
      "outputs": [
        {
          "output_type": "stream",
          "name": "stdout",
          "text": [
            "          id    age  sex  height  weight  ap_hi  ap_lo  cholesterol  gluc  \\\n",
            "0          0  18393    2     168    62.0    110     80            0     0   \n",
            "1          1  20228    1     156    85.0    140     90            0     0   \n",
            "2          2  18857    1     165    64.0    130     70            0     0   \n",
            "3          3  17623    2     169    82.0    150    100            0     0   \n",
            "4          4  17474    1     156    56.0    100     60            0     0   \n",
            "...      ...    ...  ...     ...     ...    ...    ...          ...   ...   \n",
            "69995  99993  19240    2     168    76.0    120     80            0     0   \n",
            "69996  99995  22601    1     158   126.0    140     90            0     1   \n",
            "69997  99996  19066    2     183   105.0    180     90            0     0   \n",
            "69998  99998  22431    1     163    72.0    135     80            0     1   \n",
            "69999  99999  20540    1     170    72.0    120     80            0     0   \n",
            "\n",
            "       smoke  alco  active  cardio        BMI  overweight  \n",
            "0          0     0       1       0  21.967120           0  \n",
            "1          0     0       1       1  34.927679           1  \n",
            "2          0     0       0       1  23.507805           0  \n",
            "3          0     0       1       1  28.710479           1  \n",
            "4          0     0       0       0  23.011177           0  \n",
            "...      ...   ...     ...     ...        ...         ...  \n",
            "69995      1     0       1       0  26.927438           1  \n",
            "69996      0     0       1       1  50.472681           1  \n",
            "69997      0     1       0       1  31.353579           1  \n",
            "69998      0     0       0       1  27.099251           1  \n",
            "69999      0     0       1       0  24.913495           0  \n",
            "\n",
            "[70000 rows x 15 columns]\n"
          ]
        }
      ]
    },
    {
      "cell_type": "code",
      "source": [
        "# Create DataFrame for cat plot using `pd.melt` using just the values from 'cholesterol', 'gluc', 'smoke', 'alco', 'active', and 'overweight'.\n",
        "df_cat = pd.melt(df, id_vars='cardio', value_vars=['cholesterol', 'gluc', 'smoke', 'alco', 'active', 'overweight'])#,var_name=\"med_categories\")"
      ],
      "metadata": {
        "id": "f_Ui_Pa6JKYQ"
      },
      "execution_count": 8,
      "outputs": []
    },
    {
      "cell_type": "code",
      "source": [
        "print(df_cat)"
      ],
      "metadata": {
        "colab": {
          "base_uri": "https://localhost:8080/"
        },
        "id": "2ktuK4RBKJjX",
        "outputId": "6145ab61-e8c2-43c6-9d5d-4932dca21d39"
      },
      "execution_count": 9,
      "outputs": [
        {
          "output_type": "stream",
          "name": "stdout",
          "text": [
            "        cardio     variable  value\n",
            "0            0  cholesterol      0\n",
            "1            1  cholesterol      1\n",
            "2            1  cholesterol      1\n",
            "3            1  cholesterol      0\n",
            "4            0  cholesterol      0\n",
            "...        ...          ...    ...\n",
            "419995       0   overweight      1\n",
            "419996       1   overweight      1\n",
            "419997       1   overweight      1\n",
            "419998       1   overweight      1\n",
            "419999       0   overweight      0\n",
            "\n",
            "[420000 rows x 3 columns]\n"
          ]
        }
      ]
    },
    {
      "cell_type": "code",
      "source": [
        "df_cat1 = df_cat.pivot_table(index=['cardio'], columns='variable', aggfunc='count').fillna(0)\n",
        "print(df_cat1)"
      ],
      "metadata": {
        "colab": {
          "base_uri": "https://localhost:8080/"
        },
        "id": "SRbtAdR9t4XX",
        "outputId": "5fa76a79-a481-44ae-b19a-b0389c11099b"
      },
      "execution_count": 10,
      "outputs": [
        {
          "output_type": "stream",
          "name": "stdout",
          "text": [
            "          value                                            \n",
            "variable active   alco cholesterol   gluc overweight  smoke\n",
            "cardio                                                     \n",
            "0         35021  35021       35021  35021      35021  35021\n",
            "1         34979  34979       34979  34979      34979  34979\n"
          ]
        }
      ]
    },
    {
      "cell_type": "code",
      "source": [
        "df_cat2 = df_cat.pivot_table(index=['cardio'], columns='variable', aggfunc='size').fillna(0)\n",
        "print(df_cat2)"
      ],
      "metadata": {
        "colab": {
          "base_uri": "https://localhost:8080/"
        },
        "id": "wdJPPkNgwuJL",
        "outputId": "a41bab5a-5a57-4c11-ed0c-1645e84d0cba"
      },
      "execution_count": null,
      "outputs": [
        {
          "output_type": "stream",
          "name": "stdout",
          "text": [
            "variable  active   alco  cholesterol   gluc  overweight  smoke\n",
            "cardio                                                        \n",
            "0          35021  35021        35021  35021       35021  35021\n",
            "1          34979  34979        34979  34979       34979  34979\n"
          ]
        }
      ]
    },
    {
      "cell_type": "code",
      "source": [
        "cat_order = ['cholesterol', 'gluc', 'smoke', 'alco', 'active', 'overweight']\n",
        "cat_order.sort()\n",
        "fig = sns.catplot(data=df_cat, x = \"variable\", col='cardio', order=cat_order, kind='count',hue='value')\n",
        "fig.set_ylabels(\"total\")\n",
        "fig.savefig(\"catplot.png\")"
      ],
      "metadata": {
        "colab": {
          "base_uri": "https://localhost:8080/",
          "height": 369
        },
        "id": "xkyPSVCNMq2c",
        "outputId": "d61fbc61-082f-4f58-8174-5c079dca3b60"
      },
      "execution_count": 18,
      "outputs": [
        {
          "output_type": "display_data",
          "data": {
            "text/plain": [
              "<Figure size 762.375x360 with 2 Axes>"
            ],
            "image/png": "[encoded data removed]"
          },
          "metadata": {
            "needs_background": "light"
          }
        }
      ]
    },
    {
      "cell_type": "code",
      "source": [
        "df_heat = df[(df['ap_lo'] <= df['ap_hi']) & (df['height'] >= df['height'].quantile(0.025)) & (df['height'] <= df['height'].quantile(0.975)) & (df['weight'] >= df['weight'].quantile(0.025)) & (df['weight'] <= df['weight'].quantile(0.975))]\n",
        "df_heat.drop(['BMI'], axis=1, inplace=True)"
      ],
      "metadata": {
        "id": "bag-R5KTKNvW",
        "colab": {
          "base_uri": "https://localhost:8080/"
        },
        "outputId": "8c4ede86-6e1d-456a-92e5-4a53ddae1808"
      },
      "execution_count": 41,
      "outputs": [
        {
          "output_type": "stream",
          "name": "stderr",
          "text": [
            "/usr/local/lib/python3.8/dist-packages/pandas/core/frame.py:4906: SettingWithCopyWarning: \n",
            "A value is trying to be set on a copy of a slice from a DataFrame\n",
            "\n",
            "See the caveats in the documentation: https://pandas.pydata.org/pandas-docs/stable/user_guide/indexing.html#returning-a-view-versus-a-copy\n",
            "  return super().drop(\n"
          ]
        }
      ]
    },
    {
      "cell_type": "code",
      "source": [
        "print(df_heat)"
      ],
      "metadata": {
        "colab": {
          "base_uri": "https://localhost:8080/"
        },
        "id": "7Tn5TymfNkSW",
        "outputId": "17a5e61d-d00a-4ae2-fcd5-3c4d1302abb9"
      },
      "execution_count": 42,
      "outputs": [
        {
          "output_type": "stream",
          "name": "stdout",
          "text": [
            "          id    age  sex  height  weight  ap_hi  ap_lo  cholesterol  gluc  \\\n",
            "0          0  18393    2     168    62.0    110     80            0     0   \n",
            "1          1  20228    1     156    85.0    140     90            1     0   \n",
            "2          2  18857    1     165    64.0    130     70            1     0   \n",
            "3          3  17623    2     169    82.0    150    100            0     0   \n",
            "4          4  17474    1     156    56.0    100     60            0     0   \n",
            "...      ...    ...  ...     ...     ...    ...    ...          ...   ...   \n",
            "69993  99991  19699    1     172    70.0    130     90            0     0   \n",
            "69994  99992  21074    1     165    80.0    150     80            0     0   \n",
            "69995  99993  19240    2     168    76.0    120     80            0     0   \n",
            "69998  99998  22431    1     163    72.0    135     80            0     1   \n",
            "69999  99999  20540    1     170    72.0    120     80            1     0   \n",
            "\n",
            "       smoke  alco  active  cardio  overweight  \n",
            "0          0     0       1       0           0  \n",
            "1          0     0       1       1           1  \n",
            "2          0     0       0       1           0  \n",
            "3          0     0       1       1           1  \n",
            "4          0     0       0       0           0  \n",
            "...      ...   ...     ...     ...         ...  \n",
            "69993      0     0       1       1           0  \n",
            "69994      0     0       1       1           1  \n",
            "69995      1     0       1       0           1  \n",
            "69998      0     0       0       1           1  \n",
            "69999      0     0       1       0           0  \n",
            "\n",
            "[63259 rows x 14 columns]\n"
          ]
        }
      ]
    },
    {
      "cell_type": "code",
      "source": [
        "corr = df_heat.corr()"
      ],
      "metadata": {
        "id": "ApOu6GNIN7eS"
      },
      "execution_count": 43,
      "outputs": []
    },
    {
      "cell_type": "code",
      "source": [
        "sns.heatmap(corr, annot=True, fmt='.1f')\n",
        "plt.show()"
      ],
      "metadata": {
        "colab": {
          "base_uri": "https://localhost:8080/",
          "height": 315
        },
        "id": "zo59qxuDOAsx",
        "outputId": "b532262a-c7be-4aef-cba1-aeeb26b6ac81"
      },
      "execution_count": 45,
      "outputs": [
        {
          "output_type": "display_data",
          "data": {
            "text/plain": [
              "<Figure size 432x288 with 2 Axes>"
            ],
            "image/png": "[encoded data removed]"
          },
          "metadata": {
            "needs_background": "light"
          }
        }
      ]
    },
    {
      "cell_type": "code",
      "source": [
        "mask = np.triu(np.ones_like(corr, dtype=bool))"
      ],
      "metadata": {
        "id": "UioCVAb1OlAt"
      },
      "execution_count": 49,
      "outputs": []
    },
    {
      "cell_type": "code",
      "source": [
        "shm = sns.heatmap(corr, mask=mask, center=0, annot=True, fmt='.1f')\n",
        "fig = shm.get_figure()\n",
        "fig.savefig('heatmap.png')"
      ],
      "metadata": {
        "colab": {
          "base_uri": "https://localhost:8080/",
          "height": 311
        },
        "id": "88b49kmcOoqO",
        "outputId": "2d1a2553-bef1-40f2-ff53-31b13c9081e0"
      },
      "execution_count": 52,
      "outputs": [
        {
          "output_type": "display_data",
          "data": {
            "text/plain": [
              "<Figure size 432x288 with 2 Axes>"
            ],
            "image/png": "[encoded data removed]"
          },
          "metadata": {
            "needs_background": "light"
          }
        }
      ]
    }
  ]
}